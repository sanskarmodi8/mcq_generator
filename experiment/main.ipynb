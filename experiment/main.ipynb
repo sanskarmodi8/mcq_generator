{
 "cells": [
  {
   "cell_type": "code",
   "execution_count": 1,
   "metadata": {},
   "outputs": [],
   "source": [
    "import warnings\n",
    "warnings.filterwarnings(\"ignore\")"
   ]
  },
  {
   "cell_type": "code",
   "execution_count": 2,
   "metadata": {},
   "outputs": [],
   "source": [
    "import os\n",
    "import json\n",
    "import pandas as pd\n",
    "import traceback\n",
    "from dotenv import load_dotenv\n",
    "from langchain.chat_models import ChatOpenAI\n",
    "from langchain_ai21 import ChatAI21\n",
    "from langchain.llms import OpenAI\n",
    "from langchain.prompts import PromptTemplate\n",
    "from langchain.chains import LLMChain\n",
    "from langchain.chains import SequentialChain\n",
    "from langchain.callbacks import get_openai_callback\n",
    "import PyPDF2\n"
   ]
  },
  {
   "cell_type": "code",
   "execution_count": 3,
   "metadata": {},
   "outputs": [
    {
     "data": {
      "text/plain": [
       "True"
      ]
     },
     "execution_count": 3,
     "metadata": {},
     "output_type": "execute_result"
    }
   ],
   "source": [
    "load_dotenv()"
   ]
  },
  {
   "cell_type": "code",
   "execution_count": 4,
   "metadata": {},
   "outputs": [],
   "source": [
    "os.environ[\"AI21_API_KEY\"]= os.getenv(\"AI21_API_KEY\")"
   ]
  },
  {
   "cell_type": "code",
   "execution_count": 5,
   "metadata": {},
   "outputs": [
    {
     "data": {
      "text/plain": [
       "ChatAI21(client=<ai21.clients.studio.ai21_client.AI21Client object at 0x7a05c81150a0>, api_key=SecretStr('**********'), api_host='https://api.ai21.com', timeout_sec=300.0, model='jamba-instruct', _chat_adapter=<langchain_ai21.chat.chat_adapter.JambaChatCompletionsAdapter object at 0x7a05c81153a0>)"
      ]
     },
     "execution_count": 5,
     "metadata": {},
     "output_type": "execute_result"
    }
   ],
   "source": [
    "# llm = ChatOpenAI(openai_api_key=os.getenv(\"OPENAI_API_KEY\"), model_name=\"gpt-3.5-turbo\", temperature=0.5)\n",
    "llm = ChatAI21(model=\"jamba-instruct\")\n",
    "llm"
   ]
  },
  {
   "cell_type": "code",
   "execution_count": 6,
   "metadata": {},
   "outputs": [],
   "source": [
    "response_json = {\n",
    "    \"1\" : {\n",
    "        \"mcq\" : \"multiple choice question\",\n",
    "        \"options\" : {\n",
    "            \"a\" : \"choice here\",\n",
    "            \"b\" : \"choice here\",\n",
    "            \"c\" : \"choice here\",\n",
    "            \"d\" : \"choice here\",\n",
    "        },\n",
    "        \"correct\" : \"correct answer\",\n",
    "    } ,\n",
    "    \"2\" : {\n",
    "        \"mcq\" : \"multiple choice question\",\n",
    "        \"options\" : {\n",
    "            \"a\" : \"choice here\",\n",
    "            \"b\" : \"choice here\",\n",
    "            \"c\" : \"choice here\",\n",
    "            \"d\" : \"choice here\",\n",
    "        },\n",
    "        \"correct\" : \"correct answer\",\n",
    "    } ,\n",
    "    \"3\" : {\n",
    "        \"mcq\" : \"multiple choice question\",\n",
    "        \"options\" : {\n",
    "            \"a\" : \"choice here\",\n",
    "            \"b\" : \"choice here\",\n",
    "            \"c\" : \"choice here\",\n",
    "            \"d\" : \"choice here\",\n",
    "        },\n",
    "        \"correct\" : \"correct answer\",\n",
    "    } ,\n",
    "}"
   ]
  },
  {
   "cell_type": "code",
   "execution_count": 7,
   "metadata": {},
   "outputs": [],
   "source": [
    "template = \"\"\"\n",
    "Text : {text}\n",
    "You are an expert MCQ maker. Given the above, it is your job to create a quiz of {number} multiple choice \\\n",
    "questions for {subject} students in {tone} tone. Make sure the questions are not repeated and check all \\\n",
    "the questions to be confirming the text as well. Give your response in a valid format like RESPONSE_JSON below \\\n",
    "and use it as a guide, \\\n",
    "Ensure to make {number} MCQs\n",
    "RESPONSE_JSON :\n",
    "{response_json}\n",
    "\"\"\""
   ]
  },
  {
   "cell_type": "code",
   "execution_count": 8,
   "metadata": {},
   "outputs": [],
   "source": [
    "quiz_generation_prompt = PromptTemplate(\n",
    "    input_variables=[\"text\", \"number\", \"subject\", \"tone\", \"response_json\"],\n",
    "    template=template\n",
    ")"
   ]
  },
  {
   "cell_type": "code",
   "execution_count": 9,
   "metadata": {},
   "outputs": [
    {
     "name": "stderr",
     "output_type": "stream",
     "text": [
      "/home/sanskar/anaconda3/envs/mcqgenvenv/lib/python3.8/site-packages/langchain_core/_api/deprecation.py:119: LangChainDeprecationWarning: The class `LLMChain` was deprecated in LangChain 0.1.17 and will be removed in 0.3.0. Use RunnableSequence, e.g., `prompt | llm` instead.\n",
      "  warn_deprecated(\n"
     ]
    }
   ],
   "source": [
    "quiz_chain = LLMChain(llm=llm, prompt=quiz_generation_prompt, output_key=\"quiz\", verbose=True)"
   ]
  },
  {
   "cell_type": "code",
   "execution_count": 10,
   "metadata": {},
   "outputs": [],
   "source": [
    "template2 = \"\"\"\n",
    "You are an expert English Grammarian and Writer. Given a multiple choice quiz for {subject} students. \\\n",
    "You need to evaluate the complexity of the question and give a complete analysis of the quiz. Only use \\\n",
    "at max 50 words for the compelxity. If the quiz is not as per the cognitive and analytical abilities of \\\n",
    "the students, update the quiz questions which needs to be changed and change the tone such that it perfectly \\\n",
    "fits the students. \\\n",
    "Quiz MCQs:\n",
    "{quiz}\n",
    "\n",
    "Check the above quiz as an expert english writer.\n",
    "\"\"\""
   ]
  },
  {
   "cell_type": "code",
   "execution_count": 11,
   "metadata": {},
   "outputs": [],
   "source": [
    "quiz_evaluation_prompt = PromptTemplate(input_variables=[\"subject\", \"quiz\"], template=template2)"
   ]
  },
  {
   "cell_type": "code",
   "execution_count": 12,
   "metadata": {},
   "outputs": [],
   "source": [
    "review_chain = LLMChain(llm=llm, prompt=quiz_evaluation_prompt, output_key=\"review\", verbose=True)"
   ]
  },
  {
   "cell_type": "code",
   "execution_count": 13,
   "metadata": {},
   "outputs": [],
   "source": [
    "chain = SequentialChain(chains=[quiz_chain,review_chain], \n",
    "                        input_variables=[\"text\", \"number\", \"subject\", \"tone\", \"response_json\"],\n",
    "                        output_variables=[\"quiz\", \"review\"], verbose=True)"
   ]
  },
  {
   "cell_type": "code",
   "execution_count": 14,
   "metadata": {},
   "outputs": [],
   "source": [
    "with open(\"../data.txt\", 'r') as f:\n",
    "    text = f.read()"
   ]
  },
  {
   "cell_type": "code",
   "execution_count": 15,
   "metadata": {},
   "outputs": [
    {
     "data": {
      "text/plain": [
       "\"Machine learning classification algorithms are used to assign labels to instances based on their features. Different algorithms are suitable for different types of data and problems. Here is a comparison of various commonly used classification algorithms, including when to use each and a brief detail about each one.\\n\\n1. Logistic Regression\\nWhen to Use:\\n\\nBinary classification problems.\\nWhen the relationship between the features and the target variable is approximately linear.\\nWhen interpretability is important.\\nDetails:\\nLogistic regression models the probability that a given instance belongs to a particular class. It uses the logistic function to squeeze the output of a linear equation between 0 and 1. It is simple, efficient, and provides probabilistic interpretations.\\n\\n2. Decision Trees\\nWhen to Use:\\n\\nWhen interpretability is important.\\nWhen you need a non-linear model.\\nWhen dealing with both numerical and categorical data.\\nDetails:\\nDecision trees split the data into subsets based on the value of input features. They make decisions by asking a series of questions about the features. The tree structure is easy to visualize and interpret but can be prone to overfitting.\\n\\n3. Random Forest\\nWhen to Use:\\n\\nWhen you need high accuracy.\\nWhen you want to reduce overfitting.\\nWhen dealing with large datasets with many features.\\nDetails:\\nRandom Forest is an ensemble method that builds multiple decision trees and merges them together to get a more accurate and stable prediction. It reduces overfitting by averaging the results of multiple trees and handles missing values well.\\n\\n4. Support Vector Machines (SVM)\\nWhen to Use:\\n\\nHigh-dimensional spaces (many features).\\nWhen the classes are well separated.\\nWhen you need a robust model against overfitting in high-dimensional space.\\nDetails:\\nSVM constructs a hyperplane or set of hyperplanes in a high-dimensional space to separate different classes. It is effective in high-dimensional spaces and uses kernel functions to handle non-linear relationships.\\n\\n5. K-Nearest Neighbors (KNN)\\nWhen to Use:\\n\\nSmall to medium-sized datasets.\\nWhen the decision boundary is not well-defined.\\nWhen the computation time is not a constraint.\\nDetails:\\nKNN classifies instances based on the majority class among its k-nearest neighbors. It is simple and intuitive but can be computationally expensive and sensitive to the choice of k and the distance metric.\\n\\n6. Naive Bayes\\nWhen to Use:\\n\\nText classification (e.g., spam detection).\\nWhen you assume feature independence.\\nWhen you need a fast and simple model.\\nDetails:\\nNaive Bayes is based on Bayes' theorem and assumes that features are independent given the class label. It is highly efficient and works well for high-dimensional data but can be affected by the independence assumption.\\n\\n7. Gradient Boosting Machines (GBM)\\nWhen to Use:\\n\\nWhen you need high predictive power.\\nWhen you have a large dataset.\\nWhen dealing with structured/tabular data.\\nDetails:\\nGBM builds an ensemble of trees in a stage-wise manner by iteratively adding models that correct errors made by the previous ones. It is powerful and flexible but can be slow to train and prone to overfitting.\\n\\n8. Neural Networks\\nWhen to Use:\\n\\nWhen you have a large amount of data.\\nWhen dealing with complex relationships and interactions.\\nWhen other algorithms are not performing well.\\nDetails:\\nNeural networks are composed of layers of interconnected nodes (neurons) that process the input data through non-linear transformations. They are highly flexible and can model complex patterns but require a lot of data and computational resources.\\n\\nComparison and Selection Criteria\\nModel Complexity:\\n\\nSimple: Logistic Regression, Naive Bayes.\\nModerate: Decision Trees, KNN.\\nComplex: Random Forest, SVM, GBM, Neural Networks.\\nInterpretability:\\n\\nHigh: Logistic Regression, Decision Trees.\\nModerate: Random Forest, Naive Bayes.\\nLow: SVM, GBM, Neural Networks.\\nPerformance with Small Datasets:\\n\\nGood: KNN, Decision Trees, Naive Bayes.\\nRequires more data: Random Forest, SVM, GBM, Neural Networks.\\nHandling Non-linear Relationships:\\n\\nGood: Decision Trees, Random Forest, SVM (with kernel), GBM, Neural Networks.\\nLimited: Logistic Regression, Naive Bayes, KNN (depends on k and distance metric).\\nScalability:\\n\\nGood: Logistic Regression, Naive Bayes, Random Forest (with limitations), GBM.\\nRequires more resources: SVM, Neural Networks.\""
      ]
     },
     "execution_count": 15,
     "metadata": {},
     "output_type": "execute_result"
    }
   ],
   "source": [
    "text"
   ]
  },
  {
   "cell_type": "code",
   "execution_count": 16,
   "metadata": {},
   "outputs": [],
   "source": [
    "response_json = json.dumps(response_json)"
   ]
  },
  {
   "cell_type": "code",
   "execution_count": 17,
   "metadata": {},
   "outputs": [
    {
     "name": "stderr",
     "output_type": "stream",
     "text": [
      "/home/sanskar/anaconda3/envs/mcqgenvenv/lib/python3.8/site-packages/langchain_core/_api/deprecation.py:119: LangChainDeprecationWarning: The method `Chain.__call__` was deprecated in langchain 0.1.0 and will be removed in 0.3.0. Use invoke instead.\n",
      "  warn_deprecated(\n"
     ]
    },
    {
     "name": "stdout",
     "output_type": "stream",
     "text": [
      "\n",
      "\n",
      "\u001b[1m> Entering new SequentialChain chain...\u001b[0m\n",
      "\n",
      "\n",
      "\u001b[1m> Entering new LLMChain chain...\u001b[0m\n",
      "Prompt after formatting:\n",
      "\u001b[32;1m\u001b[1;3m\n",
      "Text : Machine learning classification algorithms are used to assign labels to instances based on their features. Different algorithms are suitable for different types of data and problems. Here is a comparison of various commonly used classification algorithms, including when to use each and a brief detail about each one.\n",
      "\n",
      "1. Logistic Regression\n",
      "When to Use:\n",
      "\n",
      "Binary classification problems.\n",
      "When the relationship between the features and the target variable is approximately linear.\n",
      "When interpretability is important.\n",
      "Details:\n",
      "Logistic regression models the probability that a given instance belongs to a particular class. It uses the logistic function to squeeze the output of a linear equation between 0 and 1. It is simple, efficient, and provides probabilistic interpretations.\n",
      "\n",
      "2. Decision Trees\n",
      "When to Use:\n",
      "\n",
      "When interpretability is important.\n",
      "When you need a non-linear model.\n",
      "When dealing with both numerical and categorical data.\n",
      "Details:\n",
      "Decision trees split the data into subsets based on the value of input features. They make decisions by asking a series of questions about the features. The tree structure is easy to visualize and interpret but can be prone to overfitting.\n",
      "\n",
      "3. Random Forest\n",
      "When to Use:\n",
      "\n",
      "When you need high accuracy.\n",
      "When you want to reduce overfitting.\n",
      "When dealing with large datasets with many features.\n",
      "Details:\n",
      "Random Forest is an ensemble method that builds multiple decision trees and merges them together to get a more accurate and stable prediction. It reduces overfitting by averaging the results of multiple trees and handles missing values well.\n",
      "\n",
      "4. Support Vector Machines (SVM)\n",
      "When to Use:\n",
      "\n",
      "High-dimensional spaces (many features).\n",
      "When the classes are well separated.\n",
      "When you need a robust model against overfitting in high-dimensional space.\n",
      "Details:\n",
      "SVM constructs a hyperplane or set of hyperplanes in a high-dimensional space to separate different classes. It is effective in high-dimensional spaces and uses kernel functions to handle non-linear relationships.\n",
      "\n",
      "5. K-Nearest Neighbors (KNN)\n",
      "When to Use:\n",
      "\n",
      "Small to medium-sized datasets.\n",
      "When the decision boundary is not well-defined.\n",
      "When the computation time is not a constraint.\n",
      "Details:\n",
      "KNN classifies instances based on the majority class among its k-nearest neighbors. It is simple and intuitive but can be computationally expensive and sensitive to the choice of k and the distance metric.\n",
      "\n",
      "6. Naive Bayes\n",
      "When to Use:\n",
      "\n",
      "Text classification (e.g., spam detection).\n",
      "When you assume feature independence.\n",
      "When you need a fast and simple model.\n",
      "Details:\n",
      "Naive Bayes is based on Bayes' theorem and assumes that features are independent given the class label. It is highly efficient and works well for high-dimensional data but can be affected by the independence assumption.\n",
      "\n",
      "7. Gradient Boosting Machines (GBM)\n",
      "When to Use:\n",
      "\n",
      "When you need high predictive power.\n",
      "When you have a large dataset.\n",
      "When dealing with structured/tabular data.\n",
      "Details:\n",
      "GBM builds an ensemble of trees in a stage-wise manner by iteratively adding models that correct errors made by the previous ones. It is powerful and flexible but can be slow to train and prone to overfitting.\n",
      "\n",
      "8. Neural Networks\n",
      "When to Use:\n",
      "\n",
      "When you have a large amount of data.\n",
      "When dealing with complex relationships and interactions.\n",
      "When other algorithms are not performing well.\n",
      "Details:\n",
      "Neural networks are composed of layers of interconnected nodes (neurons) that process the input data through non-linear transformations. They are highly flexible and can model complex patterns but require a lot of data and computational resources.\n",
      "\n",
      "Comparison and Selection Criteria\n",
      "Model Complexity:\n",
      "\n",
      "Simple: Logistic Regression, Naive Bayes.\n",
      "Moderate: Decision Trees, KNN.\n",
      "Complex: Random Forest, SVM, GBM, Neural Networks.\n",
      "Interpretability:\n",
      "\n",
      "High: Logistic Regression, Decision Trees.\n",
      "Moderate: Random Forest, Naive Bayes.\n",
      "Low: SVM, GBM, Neural Networks.\n",
      "Performance with Small Datasets:\n",
      "\n",
      "Good: KNN, Decision Trees, Naive Bayes.\n",
      "Requires more data: Random Forest, SVM, GBM, Neural Networks.\n",
      "Handling Non-linear Relationships:\n",
      "\n",
      "Good: Decision Trees, Random Forest, SVM (with kernel), GBM, Neural Networks.\n",
      "Limited: Logistic Regression, Naive Bayes, KNN (depends on k and distance metric).\n",
      "Scalability:\n",
      "\n",
      "Good: Logistic Regression, Naive Bayes, Random Forest (with limitations), GBM.\n",
      "Requires more resources: SVM, Neural Networks.\n",
      "You are an expert MCQ maker. Given the above, it is your job to create a quiz of 5 multiple choice questions for Machine Learning students in Intermediate tone. Make sure the questions are not repeated and check all the questions to be confirming the text as well. Give your response in a valid format like RESPONSE_JSON below and use it as a guide, Ensure to make 5 MCQs\n",
      "RESPONSE_JSON :\n",
      "{\"1\": {\"mcq\": \"multiple choice question\", \"options\": {\"a\": \"choice here\", \"b\": \"choice here\", \"c\": \"choice here\", \"d\": \"choice here\"}, \"correct\": \"correct answer\"}, \"2\": {\"mcq\": \"multiple choice question\", \"options\": {\"a\": \"choice here\", \"b\": \"choice here\", \"c\": \"choice here\", \"d\": \"choice here\"}, \"correct\": \"correct answer\"}, \"3\": {\"mcq\": \"multiple choice question\", \"options\": {\"a\": \"choice here\", \"b\": \"choice here\", \"c\": \"choice here\", \"d\": \"choice here\"}, \"correct\": \"correct answer\"}}\n",
      "\u001b[0m\n",
      "\n",
      "\u001b[1m> Finished chain.\u001b[0m\n",
      "\n",
      "\n",
      "\u001b[1m> Entering new LLMChain chain...\u001b[0m\n",
      "Prompt after formatting:\n",
      "\u001b[32;1m\u001b[1;3m\n",
      "You are an expert English Grammarian and Writer. Given a multiple choice quiz for Machine Learning students. You need to evaluate the complexity of the question and give a complete analysis of the quiz. Only use at max 50 words for the compelxity. If the quiz is not as per the cognitive and analytical abilities of the students, update the quiz questions which needs to be changed and change the tone such that it perfectly fits the students. Quiz MCQs:\n",
      "{\"1\": {\"mcq\": \"Which classification algorithm is suitable for binary classification problems and when the relationship between the features and the target variable is approximately linear?\", \"options\": {\"a\": \"Decision Trees\", \"b\": \"Logistic Regression\", \"c\": \"Naive Bayes\", \"d\": \"Random Forest\"}, \"correct\": \"b\"},\n",
      " \"2\": {\"mcq\": \"Which classification algorithm is known for its interpretability and can handle both numerical and categorical data?\", \"options\": {\"a\": \"Support Vector Machines (SVM)\", \"b\": \"K-Nearest Neighbors (KNN)\", \"c\": \"Decision Trees\", \"d\": \"Naive Bayes\"}, \"correct\": \"c\"},\n",
      " \"3\": {\"mcq\": \"What is the key advantage of using Random Forest over Decision Trees?\", \"options\": {\"a\": \"Random Forest is more interpretable\", \"b\": \"Random Forest handles missing values well\", \"c\": \"Random Forest is less prone to overfitting\", \"d\": \"Random Forest is faster to train\"}, \"correct\": \"c\"},\n",
      " \"4\": {\"mcq\": \"Which classification algorithm is based on Bayes' theorem and assumes that features are independent given the class label?\", \"options\": {\"a\": \"Support Vector Machines (SVM)\", \"b\": \"K-Nearest Neighbors (KNN)\", \"c\": \"Naive Bayes\", \"d\": \"Gradient Boosting Machines (GBM)\"}, \"correct\": \"c\"},\n",
      " \"5\": {\"mcq\": \"What is the main disadvantage of using Neural Networks in machine learning classification?\", \"options\": {\"a\": \"They are not suitable for high-dimensional spaces\", \"b\": \"They require a large amount of data and computational resources\", \"c\": \"They are prone to overfitting\", \"d\": \"They are not effective in high-dimensional spaces\"}, \"correct\": \"d\"}}\n",
      "\n",
      "Check the above quiz as an expert english writer.\n",
      "\u001b[0m\n",
      "\n",
      "\u001b[1m> Finished chain.\u001b[0m\n",
      "\n",
      "\u001b[1m> Finished chain.\u001b[0m\n"
     ]
    }
   ],
   "source": [
    "with get_openai_callback() as cb:\n",
    "    response = chain(\n",
    "        {\n",
    "            \"text\": text,\n",
    "            \"number\": 5,\n",
    "            \"subject\": \"Machine Learning\",\n",
    "            \"tone\" : \"Intermediate\",\n",
    "            \"response_json\" : response_json\n",
    "        }\n",
    "    )"
   ]
  },
  {
   "cell_type": "code",
   "execution_count": 18,
   "metadata": {},
   "outputs": [
    {
     "data": {
      "text/plain": [
       "{'text': \"Machine learning classification algorithms are used to assign labels to instances based on their features. Different algorithms are suitable for different types of data and problems. Here is a comparison of various commonly used classification algorithms, including when to use each and a brief detail about each one.\\n\\n1. Logistic Regression\\nWhen to Use:\\n\\nBinary classification problems.\\nWhen the relationship between the features and the target variable is approximately linear.\\nWhen interpretability is important.\\nDetails:\\nLogistic regression models the probability that a given instance belongs to a particular class. It uses the logistic function to squeeze the output of a linear equation between 0 and 1. It is simple, efficient, and provides probabilistic interpretations.\\n\\n2. Decision Trees\\nWhen to Use:\\n\\nWhen interpretability is important.\\nWhen you need a non-linear model.\\nWhen dealing with both numerical and categorical data.\\nDetails:\\nDecision trees split the data into subsets based on the value of input features. They make decisions by asking a series of questions about the features. The tree structure is easy to visualize and interpret but can be prone to overfitting.\\n\\n3. Random Forest\\nWhen to Use:\\n\\nWhen you need high accuracy.\\nWhen you want to reduce overfitting.\\nWhen dealing with large datasets with many features.\\nDetails:\\nRandom Forest is an ensemble method that builds multiple decision trees and merges them together to get a more accurate and stable prediction. It reduces overfitting by averaging the results of multiple trees and handles missing values well.\\n\\n4. Support Vector Machines (SVM)\\nWhen to Use:\\n\\nHigh-dimensional spaces (many features).\\nWhen the classes are well separated.\\nWhen you need a robust model against overfitting in high-dimensional space.\\nDetails:\\nSVM constructs a hyperplane or set of hyperplanes in a high-dimensional space to separate different classes. It is effective in high-dimensional spaces and uses kernel functions to handle non-linear relationships.\\n\\n5. K-Nearest Neighbors (KNN)\\nWhen to Use:\\n\\nSmall to medium-sized datasets.\\nWhen the decision boundary is not well-defined.\\nWhen the computation time is not a constraint.\\nDetails:\\nKNN classifies instances based on the majority class among its k-nearest neighbors. It is simple and intuitive but can be computationally expensive and sensitive to the choice of k and the distance metric.\\n\\n6. Naive Bayes\\nWhen to Use:\\n\\nText classification (e.g., spam detection).\\nWhen you assume feature independence.\\nWhen you need a fast and simple model.\\nDetails:\\nNaive Bayes is based on Bayes' theorem and assumes that features are independent given the class label. It is highly efficient and works well for high-dimensional data but can be affected by the independence assumption.\\n\\n7. Gradient Boosting Machines (GBM)\\nWhen to Use:\\n\\nWhen you need high predictive power.\\nWhen you have a large dataset.\\nWhen dealing with structured/tabular data.\\nDetails:\\nGBM builds an ensemble of trees in a stage-wise manner by iteratively adding models that correct errors made by the previous ones. It is powerful and flexible but can be slow to train and prone to overfitting.\\n\\n8. Neural Networks\\nWhen to Use:\\n\\nWhen you have a large amount of data.\\nWhen dealing with complex relationships and interactions.\\nWhen other algorithms are not performing well.\\nDetails:\\nNeural networks are composed of layers of interconnected nodes (neurons) that process the input data through non-linear transformations. They are highly flexible and can model complex patterns but require a lot of data and computational resources.\\n\\nComparison and Selection Criteria\\nModel Complexity:\\n\\nSimple: Logistic Regression, Naive Bayes.\\nModerate: Decision Trees, KNN.\\nComplex: Random Forest, SVM, GBM, Neural Networks.\\nInterpretability:\\n\\nHigh: Logistic Regression, Decision Trees.\\nModerate: Random Forest, Naive Bayes.\\nLow: SVM, GBM, Neural Networks.\\nPerformance with Small Datasets:\\n\\nGood: KNN, Decision Trees, Naive Bayes.\\nRequires more data: Random Forest, SVM, GBM, Neural Networks.\\nHandling Non-linear Relationships:\\n\\nGood: Decision Trees, Random Forest, SVM (with kernel), GBM, Neural Networks.\\nLimited: Logistic Regression, Naive Bayes, KNN (depends on k and distance metric).\\nScalability:\\n\\nGood: Logistic Regression, Naive Bayes, Random Forest (with limitations), GBM.\\nRequires more resources: SVM, Neural Networks.\",\n",
       " 'number': 5,\n",
       " 'subject': 'Machine Learning',\n",
       " 'tone': 'Intermediate',\n",
       " 'response_json': '{\"1\": {\"mcq\": \"multiple choice question\", \"options\": {\"a\": \"choice here\", \"b\": \"choice here\", \"c\": \"choice here\", \"d\": \"choice here\"}, \"correct\": \"correct answer\"}, \"2\": {\"mcq\": \"multiple choice question\", \"options\": {\"a\": \"choice here\", \"b\": \"choice here\", \"c\": \"choice here\", \"d\": \"choice here\"}, \"correct\": \"correct answer\"}, \"3\": {\"mcq\": \"multiple choice question\", \"options\": {\"a\": \"choice here\", \"b\": \"choice here\", \"c\": \"choice here\", \"d\": \"choice here\"}, \"correct\": \"correct answer\"}}',\n",
       " 'quiz': '{\"1\": {\"mcq\": \"Which classification algorithm is suitable for binary classification problems and when the relationship between the features and the target variable is approximately linear?\", \"options\": {\"a\": \"Decision Trees\", \"b\": \"Logistic Regression\", \"c\": \"Naive Bayes\", \"d\": \"Random Forest\"}, \"correct\": \"b\"},\\n \"2\": {\"mcq\": \"Which classification algorithm is known for its interpretability and can handle both numerical and categorical data?\", \"options\": {\"a\": \"Support Vector Machines (SVM)\", \"b\": \"K-Nearest Neighbors (KNN)\", \"c\": \"Decision Trees\", \"d\": \"Naive Bayes\"}, \"correct\": \"c\"},\\n \"3\": {\"mcq\": \"What is the key advantage of using Random Forest over Decision Trees?\", \"options\": {\"a\": \"Random Forest is more interpretable\", \"b\": \"Random Forest handles missing values well\", \"c\": \"Random Forest is less prone to overfitting\", \"d\": \"Random Forest is faster to train\"}, \"correct\": \"c\"},\\n \"4\": {\"mcq\": \"Which classification algorithm is based on Bayes\\' theorem and assumes that features are independent given the class label?\", \"options\": {\"a\": \"Support Vector Machines (SVM)\", \"b\": \"K-Nearest Neighbors (KNN)\", \"c\": \"Naive Bayes\", \"d\": \"Gradient Boosting Machines (GBM)\"}, \"correct\": \"c\"},\\n \"5\": {\"mcq\": \"What is the main disadvantage of using Neural Networks in machine learning classification?\", \"options\": {\"a\": \"They are not suitable for high-dimensional spaces\", \"b\": \"They require a large amount of data and computational resources\", \"c\": \"They are prone to overfitting\", \"d\": \"They are not effective in high-dimensional spaces\"}, \"correct\": \"d\"}}',\n",
       " 'review': 'The quiz is at an appropriate level of complexity for Machine Learning students. However, a minor error in question 5 needs to be corrected. Instead of \"high-dimensional spaces,\" it should be \"high-dimensional datasets\" or \"high-dimensional feature spaces.\" Additionally, the tone of the questions can be slightly adjusted for clarity and conciseness. Here\\'s the updated version:\\n\\n{\"1\": {\"mcq\": \"Which algorithm is best for binary classification with a linear relationship between features and targets?\",\\n\"options\": {\"a\": \"Decision Trees\", \"b\": \"Logistic Regression\", \"c\": \"Naive Bayes\", \"d\": \"Random Forest\"}, \"correct\": \"b\"},\\n\"2\": {\"mcq\": \"Which classification algorithm is most interpretable and handles both numerical and categorical data?\",\\n\"options\": {\"a\": \"Support Vector Machines (SVM)\", \"b\": \"K-Nearest Neighbors (KNN)\", \"c\": \"Decision Trees\", \"d\": \"Naive Bayes\"}, \"correct\": \"c\"},\\n\"3\": {\"mcq\": \"What is the main advantage of Random Forest over Decision Trees?\",\\n\"options\": {\"a\": \"Random Forest is more interpretable\", \"b\": \"Random Forest handles missing values well\", \"c\": \"Random Forest is less prone to overfitting\", \"d\": \"Random Forest is faster to train\"}, \"correct\": \"c\"},\\n\"4\": {\"mcq\": \"Which classification algorithm uses Bayes\\' theorem and assumes independence of features given the class label?\",\\n\"options\": {\"a\": \"Support Vector Machines (SVM)\", \"b\": \"K-Nearest Neighbors (KNN)\", \"c\": \"Naive Bayes\", \"d\": \"Gradient Boosting Machines (GBM)\"}, \"correct\": \"c\"},\\n\"5\": {\"mcq\": \"What is the main disadvantage of using Neural Networks in machine learning classification?\",\\n\"options\": {\"a\": \"They are not suitable for high-dimensional spaces\", \"b\": \"They require a large amount of data and computational resources\", \"c\": \"They are prone to overfitting\", \"d\": \"They are not effective in high-dimensional datasets\"}, \"correct\": \"d\"}}'}"
      ]
     },
     "execution_count": 18,
     "metadata": {},
     "output_type": "execute_result"
    }
   ],
   "source": [
    "response"
   ]
  },
  {
   "cell_type": "code",
   "execution_count": 23,
   "metadata": {},
   "outputs": [
    {
     "name": "stdout",
     "output_type": "stream",
     "text": [
      "{'1': {'mcq': 'Which classification algorithm is suitable for binary classification problems and when the relationship between the features and the target variable is approximately linear?', 'options': {'a': 'Decision Trees', 'b': 'Logistic Regression', 'c': 'Naive Bayes', 'd': 'Random Forest'}, 'correct': 'b'}, '2': {'mcq': 'Which classification algorithm is known for its interpretability and can handle both numerical and categorical data?', 'options': {'a': 'Support Vector Machines (SVM)', 'b': 'K-Nearest Neighbors (KNN)', 'c': 'Decision Trees', 'd': 'Naive Bayes'}, 'correct': 'c'}, '3': {'mcq': 'What is the key advantage of using Random Forest over Decision Trees?', 'options': {'a': 'Random Forest is more interpretable', 'b': 'Random Forest handles missing values well', 'c': 'Random Forest is less prone to overfitting', 'd': 'Random Forest is faster to train'}, 'correct': 'c'}, '4': {'mcq': \"Which classification algorithm is based on Bayes' theorem and assumes that features are independent given the class label?\", 'options': {'a': 'Support Vector Machines (SVM)', 'b': 'K-Nearest Neighbors (KNN)', 'c': 'Naive Bayes', 'd': 'Gradient Boosting Machines (GBM)'}, 'correct': 'c'}, '5': {'mcq': 'What is the main disadvantage of using Neural Networks in machine learning classification?', 'options': {'a': 'They are not suitable for high-dimensional spaces', 'b': 'They require a large amount of data and computational resources', 'c': 'They are prone to overfitting', 'd': 'They are not effective in high-dimensional spaces'}, 'correct': 'd'}}\n"
     ]
    }
   ],
   "source": [
    "quiz = json.loads(response.get(\"quiz\"))\n",
    "print(quiz)"
   ]
  },
  {
   "cell_type": "code",
   "execution_count": 20,
   "metadata": {},
   "outputs": [
    {
     "name": "stdout",
     "output_type": "stream",
     "text": [
      "The quiz is at an appropriate level of complexity for Machine Learning students. However, a minor error in question 5 needs to be corrected. Instead of \"high-dimensional spaces,\" it should be \"high-dimensional datasets\" or \"high-dimensional feature spaces.\" Additionally, the tone of the questions can be slightly adjusted for clarity and conciseness. Here's the updated version:\n",
      "\n",
      "{\"1\": {\"mcq\": \"Which algorithm is best for binary classification with a linear relationship between features and targets?\",\n",
      "\"options\": {\"a\": \"Decision Trees\", \"b\": \"Logistic Regression\", \"c\": \"Naive Bayes\", \"d\": \"Random Forest\"}, \"correct\": \"b\"},\n",
      "\"2\": {\"mcq\": \"Which classification algorithm is most interpretable and handles both numerical and categorical data?\",\n",
      "\"options\": {\"a\": \"Support Vector Machines (SVM)\", \"b\": \"K-Nearest Neighbors (KNN)\", \"c\": \"Decision Trees\", \"d\": \"Naive Bayes\"}, \"correct\": \"c\"},\n",
      "\"3\": {\"mcq\": \"What is the main advantage of Random Forest over Decision Trees?\",\n",
      "\"options\": {\"a\": \"Random Forest is more interpretable\", \"b\": \"Random Forest handles missing values well\", \"c\": \"Random Forest is less prone to overfitting\", \"d\": \"Random Forest is faster to train\"}, \"correct\": \"c\"},\n",
      "\"4\": {\"mcq\": \"Which classification algorithm uses Bayes' theorem and assumes independence of features given the class label?\",\n",
      "\"options\": {\"a\": \"Support Vector Machines (SVM)\", \"b\": \"K-Nearest Neighbors (KNN)\", \"c\": \"Naive Bayes\", \"d\": \"Gradient Boosting Machines (GBM)\"}, \"correct\": \"c\"},\n",
      "\"5\": {\"mcq\": \"What is the main disadvantage of using Neural Networks in machine learning classification?\",\n",
      "\"options\": {\"a\": \"They are not suitable for high-dimensional spaces\", \"b\": \"They require a large amount of data and computational resources\", \"c\": \"They are prone to overfitting\", \"d\": \"They are not effective in high-dimensional datasets\"}, \"correct\": \"d\"}}\n"
     ]
    }
   ],
   "source": [
    "review = response.get(\"review\")\n",
    "print(review)"
   ]
  },
  {
   "cell_type": "code",
   "execution_count": 26,
   "metadata": {},
   "outputs": [],
   "source": [
    "quiz_table_data = []\n",
    "for key, value in quiz.items():\n",
    "    mcq = value[\"mcq\"]\n",
    "    options = \" | \".join([f\"{option} : {option_value}\" for option, option_value in value[\"options\"].items()])\n",
    "    correct = value[\"correct\"]\n",
    "    quiz_table_data.append({\"MCQ\":mcq, \"Choices\":options, \"Correct\":correct})"
   ]
  },
  {
   "cell_type": "code",
   "execution_count": 28,
   "metadata": {},
   "outputs": [
    {
     "data": {
      "text/plain": [
       "[{'MCQ': 'Which classification algorithm is suitable for binary classification problems and when the relationship between the features and the target variable is approximately linear?',\n",
       "  'Choices': 'a : Decision Trees | b : Logistic Regression | c : Naive Bayes | d : Random Forest',\n",
       "  'Correct': 'b'},\n",
       " {'MCQ': 'Which classification algorithm is known for its interpretability and can handle both numerical and categorical data?',\n",
       "  'Choices': 'a : Support Vector Machines (SVM) | b : K-Nearest Neighbors (KNN) | c : Decision Trees | d : Naive Bayes',\n",
       "  'Correct': 'c'},\n",
       " {'MCQ': 'What is the key advantage of using Random Forest over Decision Trees?',\n",
       "  'Choices': 'a : Random Forest is more interpretable | b : Random Forest handles missing values well | c : Random Forest is less prone to overfitting | d : Random Forest is faster to train',\n",
       "  'Correct': 'c'},\n",
       " {'MCQ': \"Which classification algorithm is based on Bayes' theorem and assumes that features are independent given the class label?\",\n",
       "  'Choices': 'a : Support Vector Machines (SVM) | b : K-Nearest Neighbors (KNN) | c : Naive Bayes | d : Gradient Boosting Machines (GBM)',\n",
       "  'Correct': 'c'},\n",
       " {'MCQ': 'What is the main disadvantage of using Neural Networks in machine learning classification?',\n",
       "  'Choices': 'a : They are not suitable for high-dimensional spaces | b : They require a large amount of data and computational resources | c : They are prone to overfitting | d : They are not effective in high-dimensional spaces',\n",
       "  'Correct': 'd'}]"
      ]
     },
     "execution_count": 28,
     "metadata": {},
     "output_type": "execute_result"
    }
   ],
   "source": [
    "quiz_table_data"
   ]
  },
  {
   "cell_type": "code",
   "execution_count": 29,
   "metadata": {},
   "outputs": [],
   "source": [
    "quiz = pd.DataFrame(quiz_table_data)"
   ]
  },
  {
   "cell_type": "code",
   "execution_count": 30,
   "metadata": {},
   "outputs": [
    {
     "data": {
      "text/html": [
       "<div>\n",
       "<style scoped>\n",
       "    .dataframe tbody tr th:only-of-type {\n",
       "        vertical-align: middle;\n",
       "    }\n",
       "\n",
       "    .dataframe tbody tr th {\n",
       "        vertical-align: top;\n",
       "    }\n",
       "\n",
       "    .dataframe thead th {\n",
       "        text-align: right;\n",
       "    }\n",
       "</style>\n",
       "<table border=\"1\" class=\"dataframe\">\n",
       "  <thead>\n",
       "    <tr style=\"text-align: right;\">\n",
       "      <th></th>\n",
       "      <th>MCQ</th>\n",
       "      <th>Choices</th>\n",
       "      <th>Correct</th>\n",
       "    </tr>\n",
       "  </thead>\n",
       "  <tbody>\n",
       "    <tr>\n",
       "      <th>0</th>\n",
       "      <td>Which classification algorithm is suitable for...</td>\n",
       "      <td>a : Decision Trees | b : Logistic Regression |...</td>\n",
       "      <td>b</td>\n",
       "    </tr>\n",
       "    <tr>\n",
       "      <th>1</th>\n",
       "      <td>Which classification algorithm is known for it...</td>\n",
       "      <td>a : Support Vector Machines (SVM) | b : K-Near...</td>\n",
       "      <td>c</td>\n",
       "    </tr>\n",
       "    <tr>\n",
       "      <th>2</th>\n",
       "      <td>What is the key advantage of using Random Fore...</td>\n",
       "      <td>a : Random Forest is more interpretable | b : ...</td>\n",
       "      <td>c</td>\n",
       "    </tr>\n",
       "    <tr>\n",
       "      <th>3</th>\n",
       "      <td>Which classification algorithm is based on Bay...</td>\n",
       "      <td>a : Support Vector Machines (SVM) | b : K-Near...</td>\n",
       "      <td>c</td>\n",
       "    </tr>\n",
       "    <tr>\n",
       "      <th>4</th>\n",
       "      <td>What is the main disadvantage of using Neural ...</td>\n",
       "      <td>a : They are not suitable for high-dimensional...</td>\n",
       "      <td>d</td>\n",
       "    </tr>\n",
       "  </tbody>\n",
       "</table>\n",
       "</div>"
      ],
      "text/plain": [
       "                                                 MCQ  \\\n",
       "0  Which classification algorithm is suitable for...   \n",
       "1  Which classification algorithm is known for it...   \n",
       "2  What is the key advantage of using Random Fore...   \n",
       "3  Which classification algorithm is based on Bay...   \n",
       "4  What is the main disadvantage of using Neural ...   \n",
       "\n",
       "                                             Choices Correct  \n",
       "0  a : Decision Trees | b : Logistic Regression |...       b  \n",
       "1  a : Support Vector Machines (SVM) | b : K-Near...       c  \n",
       "2  a : Random Forest is more interpretable | b : ...       c  \n",
       "3  a : Support Vector Machines (SVM) | b : K-Near...       c  \n",
       "4  a : They are not suitable for high-dimensional...       d  "
      ]
     },
     "execution_count": 30,
     "metadata": {},
     "output_type": "execute_result"
    }
   ],
   "source": [
    "quiz"
   ]
  },
  {
   "cell_type": "code",
   "execution_count": null,
   "metadata": {},
   "outputs": [],
   "source": []
  }
 ],
 "metadata": {
  "kernelspec": {
   "display_name": "mcqgenvenv",
   "language": "python",
   "name": "python3"
  },
  "language_info": {
   "codemirror_mode": {
    "name": "ipython",
    "version": 3
   },
   "file_extension": ".py",
   "mimetype": "text/x-python",
   "name": "python",
   "nbconvert_exporter": "python",
   "pygments_lexer": "ipython3",
   "version": "3.8.19"
  }
 },
 "nbformat": 4,
 "nbformat_minor": 2
}
